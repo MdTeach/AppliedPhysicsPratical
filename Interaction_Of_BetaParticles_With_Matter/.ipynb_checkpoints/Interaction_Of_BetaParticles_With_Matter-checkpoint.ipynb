{
 "cells": [
  {
   "cell_type": "markdown",
   "metadata": {},
   "source": [
    "# OBJ : STUDY OF THE INTERACTION OF BETA PARTICLES WITH MATTER"
   ]
  },
  {
   "cell_type": "markdown",
   "metadata": {},
   "source": [
    "## Appratus required:\n",
    "<ol>\n",
    "    <li>G.M. counter and scaling unit</li>\n",
    "    <li>Beta Source</li>\n",
    "    <li>Absorber Materials</li>\n",
    "    <li>Stop Watch</li>\n",
    "</ol>"
   ]
  },
  {
   "cell_type": "markdown",
   "metadata": {},
   "source": [
    "## Theory:\n",
    "\n",
    "<p>Beta particles are fast moving electrons emitted from the nucleus. They interact with the medium through which they pass. The interaction takes place in the form of of scattering and collisions with the nuclei and the orbital electrons of the intervening medium. The interactions lead to the eventual absorbtion of the beta particles due to gradual loss in kinetic energy. An experiment on the experiment on the absorbtion of the beta particles by medium is effectively performed by counting number of beta particles in a beam at different depths of passage within the medium. Then number of particles flass off almost exponentially  until a thickness is reached at which the beam is enitirely stopped. The beta rays are said to be completely absorbed by the medium.</p>\n",
    "<p>\n",
    "In an actual experiment for the beta absorbtion, using G>M counter, there is a count due to background background activity which is always present, that is, even after all beta particles have been absorbed by the intervening, placed between the beta source and the G.M. counter window. The absorbtion is obtained only after the count rate is corrected for the background. The maximum range R of the given beta radiation can then be determined by visual extrapolation of the absorbtion cuve to zero count rate. The maximum range R is related to the maximum beta energy E, as given by emperical formula\n",
    "</p>\n",
    "\n",
    "\\begin{align*}\n",
    "E = {\\frac{R + 0.133 }{0.542}} &...................     (1)\\\\\n",
    "\\end{align*}\n",
    "\n",
    "<p>\n",
    "Where R is in gm/cm $^2$ and E is un Mev. IN the figure 6.1 shows the graph of the count rate against the thickness of the absorber. The count rate reaches an almost constant vlaue as the thickness of the absorber becomes large. Figure 6.2 shows the graph lnC against thickness"
   ]
  },
  {
   "cell_type": "code",
   "execution_count": 120,
   "metadata": {},
   "outputs": [],
   "source": [
    "import numpy as np\n",
    "import pandas as pd\n",
    "import matplotlib.pyplot as plt"
   ]
  },
  {
   "cell_type": "code",
   "execution_count": 121,
   "metadata": {},
   "outputs": [
    {
     "data": {
      "image/png": "[encoded data removed]",
      "text/plain": [
       "<Figure size 432x288 with 1 Axes>"
      ]
     },
     "metadata": {},
     "output_type": "display_data"
    }
   ],
   "source": [
    "x = np.linspace(1,10,20)\n",
    "y = np.exp(-x)\n",
    "plt.plot(x, y,)\n",
    "plt.xticks([])\n",
    "plt.yticks([])\n",
    "plt.title(\"Figure 6.1\")\n",
    "plt.xlabel('Thickness', color='#1C2833')\n",
    "plt.ylabel('C', color='#1C2833')\n",
    "plt.show()"
   ]
  },
  {
   "cell_type": "code",
   "execution_count": 122,
   "metadata": {},
   "outputs": [
    {
     "data": {
      "image/png": "[encoded data removed]",
      "text/plain": [
       "<Figure size 432x288 with 1 Axes>"
      ]
     },
     "metadata": {},
     "output_type": "display_data"
    }
   ],
   "source": [
    "x = np.linspace(1,100,20)\n",
    "y = np.exp(-x)\n",
    "plt.plot(x, y,)\n",
    "plt.xticks([])\n",
    "plt.yticks([])\n",
    "plt.title(\"Figure 6.2\")\n",
    "plt.xlabel('Thickness'\n",
    "           , color='#1C2833')\n",
    "plt.ylabel('lnC', color='#1C2833')\n",
    "plt.show()"
   ]
  },
  {
   "cell_type": "markdown",
   "metadata": {},
   "source": [
    "## Observations:\n",
    "#### Background countrate: 34 per minute\n",
    "#### Operating Voltage = 630V\n",
    "#### Density of the absorber material = 2.72 gm/cm$^3$"
   ]
  },
  {
   "cell_type": "code",
   "execution_count": 123,
   "metadata": {},
   "outputs": [],
   "source": [
    "bg_count_rate = 34 #per min\n",
    "thickness = 0.023 #cm\n",
    "density = 2.72 #gram/cm^3"
   ]
  },
  {
   "cell_type": "markdown",
   "metadata": {},
   "source": [
    "## Table 1."
   ]
  },
  {
   "cell_type": "code",
   "execution_count": 124,
   "metadata": {},
   "outputs": [
    {
     "data": {
      "text/html": [
       "<div>\n",
       "<style scoped>\n",
       "    .dataframe tbody tr th:only-of-type {\n",
       "        vertical-align: middle;\n",
       "    }\n",
       "\n",
       "    .dataframe tbody tr th {\n",
       "        vertical-align: top;\n",
       "    }\n",
       "\n",
       "    .dataframe thead th {\n",
       "        text-align: right;\n",
       "    }\n",
       "</style>\n",
       "<table border=\"1\" class=\"dataframe\">\n",
       "  <thead>\n",
       "    <tr style=\"text-align: right;\">\n",
       "      <th></th>\n",
       "      <th>plates</th>\n",
       "      <th>count</th>\n",
       "    </tr>\n",
       "  </thead>\n",
       "  <tbody>\n",
       "    <tr>\n",
       "      <th>0</th>\n",
       "      <td>plate_no</td>\n",
       "      <td>counts_per_min\\t</td>\n",
       "    </tr>\n",
       "    <tr>\n",
       "      <th>1</th>\n",
       "      <td>0</td>\n",
       "      <td>925</td>\n",
       "    </tr>\n",
       "    <tr>\n",
       "      <th>2</th>\n",
       "      <td>1</td>\n",
       "      <td>784</td>\n",
       "    </tr>\n",
       "    <tr>\n",
       "      <th>3</th>\n",
       "      <td>2</td>\n",
       "      <td>683</td>\n",
       "    </tr>\n",
       "    <tr>\n",
       "      <th>4</th>\n",
       "      <td>3</td>\n",
       "      <td>637</td>\n",
       "    </tr>\n",
       "  </tbody>\n",
       "</table>\n",
       "</div>"
      ],
      "text/plain": [
       "     plates             count\n",
       "0  plate_no  counts_per_min\\t\n",
       "1         0               925\n",
       "2         1               784\n",
       "3         2               683\n",
       "4         3               637"
      ]
     },
     "execution_count": 124,
     "metadata": {},
     "output_type": "execute_result"
    }
   ],
   "source": [
    "data = pd.read_csv(\"data3.csv\",names = [\"plates\",\"count\"])\n",
    "data.head()"
   ]
  },
  {
   "cell_type": "code",
   "execution_count": 125,
   "metadata": {},
   "outputs": [],
   "source": [
    "data = data[1:]\n",
    "data[\"plates\"] = pd.to_numeric(data[\"plates\"])\n",
    "data[\"count\"] = pd.to_numeric(data[\"count\"])\n",
    "data[\"thickness\"] = data[\"plates\"]*thickness"
   ]
  },
  {
   "cell_type": "code",
   "execution_count": 126,
   "metadata": {},
   "outputs": [],
   "source": [
    "data[\"surface_density\"] = data[\"thickness\"] * density"
   ]
  },
  {
   "cell_type": "code",
   "execution_count": 127,
   "metadata": {},
   "outputs": [],
   "source": [
    "data[\"corrected_count\"] = data[\"count\"] - bg_count_rate\n",
    "data[\"lnC\"] = np.log(data[\"corrected_count\"])"
   ]
  },
  {
   "cell_type": "code",
   "execution_count": 128,
   "metadata": {},
   "outputs": [
    {
     "data": {
      "text/html": [
       "<div>\n",
       "<style scoped>\n",
       "    .dataframe tbody tr th:only-of-type {\n",
       "        vertical-align: middle;\n",
       "    }\n",
       "\n",
       "    .dataframe tbody tr th {\n",
       "        vertical-align: top;\n",
       "    }\n",
       "\n",
       "    .dataframe thead th {\n",
       "        text-align: right;\n",
       "    }\n",
       "</style>\n",
       "<table border=\"1\" class=\"dataframe\">\n",
       "  <thead>\n",
       "    <tr style=\"text-align: right;\">\n",
       "      <th></th>\n",
       "      <th>plates</th>\n",
       "      <th>count</th>\n",
       "      <th>thickness</th>\n",
       "      <th>surface_density</th>\n",
       "      <th>corrected_count</th>\n",
       "      <th>lnC</th>\n",
       "    </tr>\n",
       "  </thead>\n",
       "  <tbody>\n",
       "    <tr>\n",
       "      <th>1</th>\n",
       "      <td>0</td>\n",
       "      <td>925</td>\n",
       "      <td>0.000</td>\n",
       "      <td>0.00000</td>\n",
       "      <td>891</td>\n",
       "      <td>6.792344</td>\n",
       "    </tr>\n",
       "    <tr>\n",
       "      <th>2</th>\n",
       "      <td>1</td>\n",
       "      <td>784</td>\n",
       "      <td>0.023</td>\n",
       "      <td>0.06256</td>\n",
       "      <td>750</td>\n",
       "      <td>6.620073</td>\n",
       "    </tr>\n",
       "    <tr>\n",
       "      <th>3</th>\n",
       "      <td>2</td>\n",
       "      <td>683</td>\n",
       "      <td>0.046</td>\n",
       "      <td>0.12512</td>\n",
       "      <td>649</td>\n",
       "      <td>6.475433</td>\n",
       "    </tr>\n",
       "    <tr>\n",
       "      <th>4</th>\n",
       "      <td>3</td>\n",
       "      <td>637</td>\n",
       "      <td>0.069</td>\n",
       "      <td>0.18768</td>\n",
       "      <td>603</td>\n",
       "      <td>6.401917</td>\n",
       "    </tr>\n",
       "    <tr>\n",
       "      <th>5</th>\n",
       "      <td>4</td>\n",
       "      <td>598</td>\n",
       "      <td>0.092</td>\n",
       "      <td>0.25024</td>\n",
       "      <td>564</td>\n",
       "      <td>6.335054</td>\n",
       "    </tr>\n",
       "    <tr>\n",
       "      <th>6</th>\n",
       "      <td>5</td>\n",
       "      <td>514</td>\n",
       "      <td>0.115</td>\n",
       "      <td>0.31280</td>\n",
       "      <td>480</td>\n",
       "      <td>6.173786</td>\n",
       "    </tr>\n",
       "    <tr>\n",
       "      <th>7</th>\n",
       "      <td>6</td>\n",
       "      <td>435</td>\n",
       "      <td>0.138</td>\n",
       "      <td>0.37536</td>\n",
       "      <td>401</td>\n",
       "      <td>5.993961</td>\n",
       "    </tr>\n",
       "    <tr>\n",
       "      <th>8</th>\n",
       "      <td>7</td>\n",
       "      <td>390</td>\n",
       "      <td>0.161</td>\n",
       "      <td>0.43792</td>\n",
       "      <td>356</td>\n",
       "      <td>5.874931</td>\n",
       "    </tr>\n",
       "    <tr>\n",
       "      <th>9</th>\n",
       "      <td>8</td>\n",
       "      <td>345</td>\n",
       "      <td>0.184</td>\n",
       "      <td>0.50048</td>\n",
       "      <td>311</td>\n",
       "      <td>5.739793</td>\n",
       "    </tr>\n",
       "    <tr>\n",
       "      <th>10</th>\n",
       "      <td>9</td>\n",
       "      <td>286</td>\n",
       "      <td>0.207</td>\n",
       "      <td>0.56304</td>\n",
       "      <td>252</td>\n",
       "      <td>5.529429</td>\n",
       "    </tr>\n",
       "    <tr>\n",
       "      <th>11</th>\n",
       "      <td>10</td>\n",
       "      <td>259</td>\n",
       "      <td>0.230</td>\n",
       "      <td>0.62560</td>\n",
       "      <td>225</td>\n",
       "      <td>5.416100</td>\n",
       "    </tr>\n",
       "    <tr>\n",
       "      <th>12</th>\n",
       "      <td>11</td>\n",
       "      <td>255</td>\n",
       "      <td>0.253</td>\n",
       "      <td>0.68816</td>\n",
       "      <td>221</td>\n",
       "      <td>5.398163</td>\n",
       "    </tr>\n",
       "    <tr>\n",
       "      <th>13</th>\n",
       "      <td>12</td>\n",
       "      <td>250</td>\n",
       "      <td>0.276</td>\n",
       "      <td>0.75072</td>\n",
       "      <td>216</td>\n",
       "      <td>5.375278</td>\n",
       "    </tr>\n",
       "    <tr>\n",
       "      <th>14</th>\n",
       "      <td>13</td>\n",
       "      <td>247</td>\n",
       "      <td>0.299</td>\n",
       "      <td>0.81328</td>\n",
       "      <td>213</td>\n",
       "      <td>5.361292</td>\n",
       "    </tr>\n",
       "    <tr>\n",
       "      <th>15</th>\n",
       "      <td>14</td>\n",
       "      <td>243</td>\n",
       "      <td>0.322</td>\n",
       "      <td>0.87584</td>\n",
       "      <td>209</td>\n",
       "      <td>5.342334</td>\n",
       "    </tr>\n",
       "    <tr>\n",
       "      <th>16</th>\n",
       "      <td>15</td>\n",
       "      <td>240</td>\n",
       "      <td>0.345</td>\n",
       "      <td>0.93840</td>\n",
       "      <td>206</td>\n",
       "      <td>5.327876</td>\n",
       "    </tr>\n",
       "  </tbody>\n",
       "</table>\n",
       "</div>"
      ],
      "text/plain": [
       "    plates  count  thickness  surface_density  corrected_count       lnC\n",
       "1        0    925      0.000          0.00000              891  6.792344\n",
       "2        1    784      0.023          0.06256              750  6.620073\n",
       "3        2    683      0.046          0.12512              649  6.475433\n",
       "4        3    637      0.069          0.18768              603  6.401917\n",
       "5        4    598      0.092          0.25024              564  6.335054\n",
       "6        5    514      0.115          0.31280              480  6.173786\n",
       "7        6    435      0.138          0.37536              401  5.993961\n",
       "8        7    390      0.161          0.43792              356  5.874931\n",
       "9        8    345      0.184          0.50048              311  5.739793\n",
       "10       9    286      0.207          0.56304              252  5.529429\n",
       "11      10    259      0.230          0.62560              225  5.416100\n",
       "12      11    255      0.253          0.68816              221  5.398163\n",
       "13      12    250      0.276          0.75072              216  5.375278\n",
       "14      13    247      0.299          0.81328              213  5.361292\n",
       "15      14    243      0.322          0.87584              209  5.342334\n",
       "16      15    240      0.345          0.93840              206  5.327876"
      ]
     },
     "execution_count": 128,
     "metadata": {},
     "output_type": "execute_result"
    }
   ],
   "source": [
    "data"
   ]
  },
  {
   "cell_type": "markdown",
   "metadata": {},
   "source": [
    "## Count Rate vs Thickness"
   ]
  },
  {
   "cell_type": "code",
   "execution_count": 148,
   "metadata": {},
   "outputs": [
    {
     "data": {
      "image/png": "[encoded data removed]",
      "text/plain": [
       "<Figure size 432x288 with 2 Axes>"
      ]
     },
     "metadata": {
      "needs_background": "light"
     },
     "output_type": "display_data"
    }
   ],
   "source": [
    "#plotting the points\n",
    "plt.subplot(1,2,1)\n",
    "x = data[\"surface_density\"]\n",
    "y = data[\"corrected_count\"]\n",
    "plt.title(\"Obtained\")\n",
    "plt.xlabel('Thickness', color='#1C2833')\n",
    "plt.ylabel('Count', color='#1C2833')\n",
    "#plt.ylim(0,486)\n",
    "#plt.xlim(0,0.03)\n",
    "plt.scatter(x,y) \n",
    "#plt.plot(x,y)\n",
    "\n",
    "plt.subplot(1,2,2)\n",
    "x = np.linspace(1,10,20)\n",
    "y = np.exp(-x)\n",
    "plt.plot(x, y,)\n",
    "plt.xticks([])\n",
    "plt.yticks([])\n",
    "plt.title(\"Expexted\")\n",
    "plt.xlabel('Thickness', color='#1C2833')\n",
    "plt.ylabel('C', color='#1C2833')\n",
    "\n",
    "plt.show()"
   ]
  },
  {
   "cell_type": "markdown",
   "metadata": {},
   "source": [
    "## Log(Count Rate) vs Thickness"
   ]
  },
  {
   "cell_type": "code",
   "execution_count": 146,
   "metadata": {},
   "outputs": [
    {
     "data": {
      "image/png": "[encoded data removed]",
      "text/plain": [
       "<Figure size 432x288 with 2 Axes>"
      ]
     },
     "metadata": {
      "needs_background": "light"
     },
     "output_type": "display_data"
    }
   ],
   "source": [
    "#plotting the points\n",
    "plt.subplot(1,2,1)\n",
    "x = data[\"surface_density\"]\n",
    "y = data[\"lnC\"]\n",
    "plt.title(\"Obtained\")\n",
    "plt.xlabel('Thickness', color='#1C2833')\n",
    "plt.ylabel('lnC', color='#1C2833')\n",
    "#plt.ylim(0,7)\n",
    "#plt.xlim(0,0.35)\n",
    "plt.scatter(x,y) \n",
    "#plt.plot(x,y)\n",
    "\n",
    "plt.subplot(1,2,2)\n",
    "x = np.linspace(1,100,20)\n",
    "y = np.exp(-x)\n",
    "plt.plot(x, y,)\n",
    "plt.xticks([])\n",
    "plt.yticks([])\n",
    "plt.title(\"Expected\")\n",
    "plt.xlabel('Thickness'\n",
    "           , color='#1C2833')\n",
    "plt.ylabel('lnC', color='#1C2833')\n",
    "plt.show()\n",
    "\n",
    "\n",
    "\n",
    "plt.show()"
   ]
  },
  {
   "cell_type": "markdown",
   "metadata": {},
   "source": [
    "## For range"
   ]
  },
  {
   "cell_type": "code",
   "execution_count": 131,
   "metadata": {},
   "outputs": [],
   "source": [
    "range  = data"
   ]
  },
  {
   "cell_type": "code",
   "execution_count": 135,
   "metadata": {},
   "outputs": [],
   "source": [
    "range = range.drop(['plates', 'count','thickness','corrected_count'], axis=1)"
   ]
  },
  {
   "cell_type": "code",
   "execution_count": 137,
   "metadata": {},
   "outputs": [],
   "source": [
    "range[\"x*y\"] = range[\"surface_density\"]*range[\"lnC\"]"
   ]
  },
  {
   "cell_type": "code",
   "execution_count": 139,
   "metadata": {},
   "outputs": [],
   "source": [
    "range[\"x^2\"] = range[\"surface_density\"]**2"
   ]
  },
  {
   "cell_type": "code",
   "execution_count": 140,
   "metadata": {},
   "outputs": [
    {
     "data": {
      "text/html": [
       "<div>\n",
       "<style scoped>\n",
       "    .dataframe tbody tr th:only-of-type {\n",
       "        vertical-align: middle;\n",
       "    }\n",
       "\n",
       "    .dataframe tbody tr th {\n",
       "        vertical-align: top;\n",
       "    }\n",
       "\n",
       "    .dataframe thead th {\n",
       "        text-align: right;\n",
       "    }\n",
       "</style>\n",
       "<table border=\"1\" class=\"dataframe\">\n",
       "  <thead>\n",
       "    <tr style=\"text-align: right;\">\n",
       "      <th></th>\n",
       "      <th>surface_density</th>\n",
       "      <th>lnC</th>\n",
       "      <th>x*y</th>\n",
       "      <th>x^2</th>\n",
       "    </tr>\n",
       "  </thead>\n",
       "  <tbody>\n",
       "    <tr>\n",
       "      <th>1</th>\n",
       "      <td>0.00000</td>\n",
       "      <td>6.792344</td>\n",
       "      <td>0.000000</td>\n",
       "      <td>0.000000</td>\n",
       "    </tr>\n",
       "    <tr>\n",
       "      <th>2</th>\n",
       "      <td>0.06256</td>\n",
       "      <td>6.620073</td>\n",
       "      <td>0.414152</td>\n",
       "      <td>0.003914</td>\n",
       "    </tr>\n",
       "    <tr>\n",
       "      <th>3</th>\n",
       "      <td>0.12512</td>\n",
       "      <td>6.475433</td>\n",
       "      <td>0.810206</td>\n",
       "      <td>0.015655</td>\n",
       "    </tr>\n",
       "    <tr>\n",
       "      <th>4</th>\n",
       "      <td>0.18768</td>\n",
       "      <td>6.401917</td>\n",
       "      <td>1.201512</td>\n",
       "      <td>0.035224</td>\n",
       "    </tr>\n",
       "    <tr>\n",
       "      <th>5</th>\n",
       "      <td>0.25024</td>\n",
       "      <td>6.335054</td>\n",
       "      <td>1.585284</td>\n",
       "      <td>0.062620</td>\n",
       "    </tr>\n",
       "    <tr>\n",
       "      <th>6</th>\n",
       "      <td>0.31280</td>\n",
       "      <td>6.173786</td>\n",
       "      <td>1.931160</td>\n",
       "      <td>0.097844</td>\n",
       "    </tr>\n",
       "    <tr>\n",
       "      <th>7</th>\n",
       "      <td>0.37536</td>\n",
       "      <td>5.993961</td>\n",
       "      <td>2.249893</td>\n",
       "      <td>0.140895</td>\n",
       "    </tr>\n",
       "    <tr>\n",
       "      <th>8</th>\n",
       "      <td>0.43792</td>\n",
       "      <td>5.874931</td>\n",
       "      <td>2.572750</td>\n",
       "      <td>0.191774</td>\n",
       "    </tr>\n",
       "    <tr>\n",
       "      <th>9</th>\n",
       "      <td>0.50048</td>\n",
       "      <td>5.739793</td>\n",
       "      <td>2.872652</td>\n",
       "      <td>0.250480</td>\n",
       "    </tr>\n",
       "    <tr>\n",
       "      <th>10</th>\n",
       "      <td>0.56304</td>\n",
       "      <td>5.529429</td>\n",
       "      <td>3.113290</td>\n",
       "      <td>0.317014</td>\n",
       "    </tr>\n",
       "    <tr>\n",
       "      <th>11</th>\n",
       "      <td>0.62560</td>\n",
       "      <td>5.416100</td>\n",
       "      <td>3.388312</td>\n",
       "      <td>0.391375</td>\n",
       "    </tr>\n",
       "    <tr>\n",
       "      <th>12</th>\n",
       "      <td>0.68816</td>\n",
       "      <td>5.398163</td>\n",
       "      <td>3.714800</td>\n",
       "      <td>0.473564</td>\n",
       "    </tr>\n",
       "    <tr>\n",
       "      <th>13</th>\n",
       "      <td>0.75072</td>\n",
       "      <td>5.375278</td>\n",
       "      <td>4.035329</td>\n",
       "      <td>0.563581</td>\n",
       "    </tr>\n",
       "    <tr>\n",
       "      <th>14</th>\n",
       "      <td>0.81328</td>\n",
       "      <td>5.361292</td>\n",
       "      <td>4.360232</td>\n",
       "      <td>0.661424</td>\n",
       "    </tr>\n",
       "    <tr>\n",
       "      <th>15</th>\n",
       "      <td>0.87584</td>\n",
       "      <td>5.342334</td>\n",
       "      <td>4.679030</td>\n",
       "      <td>0.767096</td>\n",
       "    </tr>\n",
       "    <tr>\n",
       "      <th>16</th>\n",
       "      <td>0.93840</td>\n",
       "      <td>5.327876</td>\n",
       "      <td>4.999679</td>\n",
       "      <td>0.880595</td>\n",
       "    </tr>\n",
       "  </tbody>\n",
       "</table>\n",
       "</div>"
      ],
      "text/plain": [
       "    surface_density       lnC       x*y       x^2\n",
       "1           0.00000  6.792344  0.000000  0.000000\n",
       "2           0.06256  6.620073  0.414152  0.003914\n",
       "3           0.12512  6.475433  0.810206  0.015655\n",
       "4           0.18768  6.401917  1.201512  0.035224\n",
       "5           0.25024  6.335054  1.585284  0.062620\n",
       "6           0.31280  6.173786  1.931160  0.097844\n",
       "7           0.37536  5.993961  2.249893  0.140895\n",
       "8           0.43792  5.874931  2.572750  0.191774\n",
       "9           0.50048  5.739793  2.872652  0.250480\n",
       "10          0.56304  5.529429  3.113290  0.317014\n",
       "11          0.62560  5.416100  3.388312  0.391375\n",
       "12          0.68816  5.398163  3.714800  0.473564\n",
       "13          0.75072  5.375278  4.035329  0.563581\n",
       "14          0.81328  5.361292  4.360232  0.661424\n",
       "15          0.87584  5.342334  4.679030  0.767096\n",
       "16          0.93840  5.327876  4.999679  0.880595"
      ]
     },
     "execution_count": 140,
     "metadata": {},
     "output_type": "execute_result"
    }
   ],
   "source": [
    "range"
   ]
  },
  {
   "cell_type": "markdown",
   "metadata": {},
   "source": [
    "## From the graph maximum range R = 0.93 $gm/cm^2$"
   ]
  },
  {
   "cell_type": "code",
   "execution_count": 142,
   "metadata": {},
   "outputs": [],
   "source": [
    "R = 0.93 #gm/cm^2\n",
    "E = (R+ 0.133)/0.542"
   ]
  },
  {
   "cell_type": "markdown",
   "metadata": {},
   "source": [
    "## We have,\n",
    "## E = $\\frac{R+0.133}{0.542}$"
   ]
  },
  {
   "cell_type": "code",
   "execution_count": 144,
   "metadata": {},
   "outputs": [
    {
     "name": "stdout",
     "output_type": "stream",
     "text": [
      "Therefore the maximim beta energy E = 1.9612546125461257 meV\n"
     ]
    }
   ],
   "source": [
    "print(\"Therefore the maximim beta energy E = \"+str(E)+\" meV\")"
   ]
  },
  {
   "cell_type": "code",
   "execution_count": null,
   "metadata": {},
   "outputs": [],
   "source": []
  }
 ],
 "metadata": {
  "kernelspec": {
   "display_name": "Python 3",
   "language": "python",
   "name": "python3"
  },
  "language_info": {
   "codemirror_mode": {
    "name": "ipython",
    "version": 3
   },
   "file_extension": ".py",
   "mimetype": "text/x-python",
   "name": "python",
   "nbconvert_exporter": "python",
   "pygments_lexer": "ipython3",
   "version": "3.7.1"
  }
 },
 "nbformat": 4,
 "nbformat_minor": 2
}
