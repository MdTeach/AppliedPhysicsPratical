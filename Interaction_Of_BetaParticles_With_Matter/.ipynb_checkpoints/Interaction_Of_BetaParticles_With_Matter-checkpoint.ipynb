{
 "cells": [
  {
   "cell_type": "markdown",
   "metadata": {},
   "source": [
    "# OBJ : STUDY OF THE INTERACTION OF BETA PARTICLES WITH MATTER"
   ]
  },
  {
   "cell_type": "markdown",
   "metadata": {},
   "source": [
    "## Appratus required:\n",
    "<ol>\n",
    "    <li>G.M. counter and scaling unit</li>\n",
    "    <li>Beta Source</li>\n",
    "    <li>Absorber Materials</li>\n",
    "    <li>Stop Watch</li>\n",
    "</ol>"
   ]
  },
  {
   "cell_type": "markdown",
   "metadata": {},
   "source": [
    "## Theory:\n",
    "\n",
    "<p>Beta particles are fast moving electrons emitted from the nucleus. They interact with the medium through which they pass. The interaction takes place in the form of of scattering and collisions with the nuclei and the orbital electrons of the intervening medium. The interactions lead to the eventual absorbtion of the beta particles due to gradual loss in kinetic energy. An experiment on the experiment on the absorbtion of the beta particles by medium is effectively performed by counting number of beta particles in a beam at different depths of passage within the medium. Then number of particles flass off almost exponentially  until a thickness is reached at which the beam is enitirely stopped. The beta rays are said to be completely absorbed by the medium.</p>\n",
    "<p>\n",
    "In an actual experiment for the beta absorbtion, using G>M counter, there is a count due to background background activity which is always present, that is, even after all beta particles have been absorbed by the intervening, placed between the beta source and the G.M. counter window. The absorbtion is obtained only after the count rate is corrected for the background. The maximum range R of the given beta radiation can then be determined by visual extrapolation of the absorbtion cuve to zero count rate. The maximum range R is related to the maximum beta energy E, as given by emperical formula\n",
    "</p>\n",
    "\n",
    "\\begin{align*}\n",
    "E = {\\frac{R + 0.133 }{0.542}} &...................     (1)\\\\\n",
    "\\end{align*}\n",
    "\n",
    "<p>\n",
    "Where R is in gm/cm $^2$ and E is un Mev. IN the figure 6.1 shows the graph of the count rate against the thickness of the absorber. The count rate reaches an almost constant vlaue as the thickness of the absorber becomes large. Figure 6.2 shows the graph lnC against thickness"
   ]
  },
  {
   "cell_type": "code",
   "execution_count": 89,
   "metadata": {},
   "outputs": [],
   "source": [
    "import numpy as np\n",
    "import pandas as pd\n",
    "import matplotlib.pyplot as plt"
   ]
  },
  {
   "cell_type": "code",
   "execution_count": 90,
   "metadata": {},
   "outputs": [
    {
     "data": {
      "image/png": "[encoded data removed]",
      "text/plain": [
       "<Figure size 432x288 with 1 Axes>"
      ]
     },
     "metadata": {},
     "output_type": "display_data"
    }
   ],
   "source": [
    "x = np.linspace(1,10,20)\n",
    "y = np.exp(-x)\n",
    "plt.plot(x, y,)\n",
    "plt.xticks([])\n",
    "plt.yticks([])\n",
    "plt.title(\"Figure 6.1\")\n",
    "plt.xlabel('Thickness', color='#1C2833')\n",
    "plt.ylabel('C', color='#1C2833')\n",
    "plt.show()"
   ]
  },
  {
   "cell_type": "code",
   "execution_count": 136,
   "metadata": {},
   "outputs": [
    {
     "data": {
      "image/png": "[encoded data removed]",
      "text/plain": [
       "<Figure size 432x288 with 1 Axes>"
      ]
     },
     "metadata": {},
     "output_type": "display_data"
    }
   ],
   "source": [
    "x = np.linspace(1,100,20)\n",
    "y = np.exp(-x)\n",
    "plt.plot(x, y,)\n",
    "plt.xticks([])\n",
    "plt.yticks([])\n",
    "plt.title(\"Figure 6.2\")\n",
    "plt.xlabel('Thickness', color='#1C2833')\n",
    "plt.ylabel('lnC', color='#1C2833')\n",
    "plt.show()"
   ]
  },
  {
   "cell_type": "markdown",
   "metadata": {},
   "source": [
    "## Observations:\n",
    "#### Background countrate: 29 per minute\n",
    "#### Operating Voltage = 630V\n",
    "#### Density of the absorber material = 2.4 gm/cm$^3$"
   ]
  },
  {
   "cell_type": "code",
   "execution_count": 137,
   "metadata": {},
   "outputs": [],
   "source": [
    "bg_count_rate = 29 #per min\n",
    "thickness = 0.004 #cm\n",
    "density = 2.4 #gram/cm^3"
   ]
  },
  {
   "cell_type": "markdown",
   "metadata": {},
   "source": [
    "## Table 1."
   ]
  },
  {
   "cell_type": "code",
   "execution_count": 138,
   "metadata": {},
   "outputs": [
    {
     "data": {
      "text/html": [
       "<div>\n",
       "<style scoped>\n",
       "    .dataframe tbody tr th:only-of-type {\n",
       "        vertical-align: middle;\n",
       "    }\n",
       "\n",
       "    .dataframe tbody tr th {\n",
       "        vertical-align: top;\n",
       "    }\n",
       "\n",
       "    .dataframe thead th {\n",
       "        text-align: right;\n",
       "    }\n",
       "</style>\n",
       "<table border=\"1\" class=\"dataframe\">\n",
       "  <thead>\n",
       "    <tr style=\"text-align: right;\">\n",
       "      <th></th>\n",
       "      <th>plates</th>\n",
       "      <th>count</th>\n",
       "    </tr>\n",
       "  </thead>\n",
       "  <tbody>\n",
       "    <tr>\n",
       "      <th>0</th>\n",
       "      <td>plate_no</td>\n",
       "      <td>counts_per_min\\t</td>\n",
       "    </tr>\n",
       "    <tr>\n",
       "      <th>1</th>\n",
       "      <td>1</td>\n",
       "      <td>504</td>\n",
       "    </tr>\n",
       "    <tr>\n",
       "      <th>2</th>\n",
       "      <td>2</td>\n",
       "      <td>470</td>\n",
       "    </tr>\n",
       "    <tr>\n",
       "      <th>3</th>\n",
       "      <td>3</td>\n",
       "      <td>380</td>\n",
       "    </tr>\n",
       "    <tr>\n",
       "      <th>4</th>\n",
       "      <td>4</td>\n",
       "      <td>349</td>\n",
       "    </tr>\n",
       "  </tbody>\n",
       "</table>\n",
       "</div>"
      ],
      "text/plain": [
       "     plates             count\n",
       "0  plate_no  counts_per_min\\t\n",
       "1         1               504\n",
       "2         2               470\n",
       "3         3               380\n",
       "4         4               349"
      ]
     },
     "execution_count": 138,
     "metadata": {},
     "output_type": "execute_result"
    }
   ],
   "source": [
    "data = pd.read_csv(\"data.csv\",names = [\"plates\",\"count\"])\n",
    "data.head()"
   ]
  },
  {
   "cell_type": "code",
   "execution_count": 139,
   "metadata": {},
   "outputs": [],
   "source": [
    "data = data[1:]\n",
    "data[\"plates\"] = pd.to_numeric(data[\"plates\"])\n",
    "data[\"count\"] = pd.to_numeric(data[\"count\"])\n",
    "data[\"thickness\"] = data[\"plates\"]*thickness"
   ]
  },
  {
   "cell_type": "code",
   "execution_count": 140,
   "metadata": {},
   "outputs": [],
   "source": [
    "data[\"surface_density\"] = data[\"thickness\"] * density"
   ]
  },
  {
   "cell_type": "code",
   "execution_count": 141,
   "metadata": {},
   "outputs": [],
   "source": [
    "data[\"corrected_count\"] = data[\"count\"] - bg_count_rate\n",
    "data[\"lnC\"] = np.log(data[\"corrected_count\"])"
   ]
  },
  {
   "cell_type": "code",
   "execution_count": 142,
   "metadata": {},
   "outputs": [
    {
     "data": {
      "text/html": [
       "<div>\n",
       "<style scoped>\n",
       "    .dataframe tbody tr th:only-of-type {\n",
       "        vertical-align: middle;\n",
       "    }\n",
       "\n",
       "    .dataframe tbody tr th {\n",
       "        vertical-align: top;\n",
       "    }\n",
       "\n",
       "    .dataframe thead th {\n",
       "        text-align: right;\n",
       "    }\n",
       "</style>\n",
       "<table border=\"1\" class=\"dataframe\">\n",
       "  <thead>\n",
       "    <tr style=\"text-align: right;\">\n",
       "      <th></th>\n",
       "      <th>plates</th>\n",
       "      <th>count</th>\n",
       "      <th>thickness</th>\n",
       "      <th>surface_density</th>\n",
       "      <th>corrected_count</th>\n",
       "      <th>lnC</th>\n",
       "    </tr>\n",
       "  </thead>\n",
       "  <tbody>\n",
       "    <tr>\n",
       "      <th>1</th>\n",
       "      <td>1</td>\n",
       "      <td>504</td>\n",
       "      <td>0.004</td>\n",
       "      <td>0.0096</td>\n",
       "      <td>475</td>\n",
       "      <td>6.163315</td>\n",
       "    </tr>\n",
       "    <tr>\n",
       "      <th>2</th>\n",
       "      <td>2</td>\n",
       "      <td>470</td>\n",
       "      <td>0.008</td>\n",
       "      <td>0.0192</td>\n",
       "      <td>441</td>\n",
       "      <td>6.089045</td>\n",
       "    </tr>\n",
       "    <tr>\n",
       "      <th>3</th>\n",
       "      <td>3</td>\n",
       "      <td>380</td>\n",
       "      <td>0.012</td>\n",
       "      <td>0.0288</td>\n",
       "      <td>351</td>\n",
       "      <td>5.860786</td>\n",
       "    </tr>\n",
       "    <tr>\n",
       "      <th>4</th>\n",
       "      <td>4</td>\n",
       "      <td>349</td>\n",
       "      <td>0.016</td>\n",
       "      <td>0.0384</td>\n",
       "      <td>320</td>\n",
       "      <td>5.768321</td>\n",
       "    </tr>\n",
       "    <tr>\n",
       "      <th>5</th>\n",
       "      <td>5</td>\n",
       "      <td>321</td>\n",
       "      <td>0.020</td>\n",
       "      <td>0.0480</td>\n",
       "      <td>292</td>\n",
       "      <td>5.676754</td>\n",
       "    </tr>\n",
       "    <tr>\n",
       "      <th>6</th>\n",
       "      <td>6</td>\n",
       "      <td>283</td>\n",
       "      <td>0.024</td>\n",
       "      <td>0.0576</td>\n",
       "      <td>254</td>\n",
       "      <td>5.537334</td>\n",
       "    </tr>\n",
       "    <tr>\n",
       "      <th>7</th>\n",
       "      <td>7</td>\n",
       "      <td>251</td>\n",
       "      <td>0.028</td>\n",
       "      <td>0.0672</td>\n",
       "      <td>222</td>\n",
       "      <td>5.402677</td>\n",
       "    </tr>\n",
       "    <tr>\n",
       "      <th>8</th>\n",
       "      <td>8</td>\n",
       "      <td>245</td>\n",
       "      <td>0.032</td>\n",
       "      <td>0.0768</td>\n",
       "      <td>216</td>\n",
       "      <td>5.375278</td>\n",
       "    </tr>\n",
       "    <tr>\n",
       "      <th>9</th>\n",
       "      <td>9</td>\n",
       "      <td>241</td>\n",
       "      <td>0.036</td>\n",
       "      <td>0.0864</td>\n",
       "      <td>212</td>\n",
       "      <td>5.356586</td>\n",
       "    </tr>\n",
       "    <tr>\n",
       "      <th>10</th>\n",
       "      <td>10</td>\n",
       "      <td>207</td>\n",
       "      <td>0.040</td>\n",
       "      <td>0.0960</td>\n",
       "      <td>178</td>\n",
       "      <td>5.181784</td>\n",
       "    </tr>\n",
       "    <tr>\n",
       "      <th>11</th>\n",
       "      <td>11</td>\n",
       "      <td>191</td>\n",
       "      <td>0.044</td>\n",
       "      <td>0.1056</td>\n",
       "      <td>162</td>\n",
       "      <td>5.087596</td>\n",
       "    </tr>\n",
       "    <tr>\n",
       "      <th>12</th>\n",
       "      <td>12</td>\n",
       "      <td>171</td>\n",
       "      <td>0.048</td>\n",
       "      <td>0.1152</td>\n",
       "      <td>142</td>\n",
       "      <td>4.955827</td>\n",
       "    </tr>\n",
       "    <tr>\n",
       "      <th>13</th>\n",
       "      <td>13</td>\n",
       "      <td>162</td>\n",
       "      <td>0.052</td>\n",
       "      <td>0.1248</td>\n",
       "      <td>133</td>\n",
       "      <td>4.890349</td>\n",
       "    </tr>\n",
       "    <tr>\n",
       "      <th>14</th>\n",
       "      <td>14</td>\n",
       "      <td>143</td>\n",
       "      <td>0.056</td>\n",
       "      <td>0.1344</td>\n",
       "      <td>114</td>\n",
       "      <td>4.736198</td>\n",
       "    </tr>\n",
       "    <tr>\n",
       "      <th>15</th>\n",
       "      <td>15</td>\n",
       "      <td>118</td>\n",
       "      <td>0.060</td>\n",
       "      <td>0.1440</td>\n",
       "      <td>89</td>\n",
       "      <td>4.488636</td>\n",
       "    </tr>\n",
       "  </tbody>\n",
       "</table>\n",
       "</div>"
      ],
      "text/plain": [
       "    plates  count  thickness  surface_density  corrected_count       lnC\n",
       "1        1    504      0.004           0.0096              475  6.163315\n",
       "2        2    470      0.008           0.0192              441  6.089045\n",
       "3        3    380      0.012           0.0288              351  5.860786\n",
       "4        4    349      0.016           0.0384              320  5.768321\n",
       "5        5    321      0.020           0.0480              292  5.676754\n",
       "6        6    283      0.024           0.0576              254  5.537334\n",
       "7        7    251      0.028           0.0672              222  5.402677\n",
       "8        8    245      0.032           0.0768              216  5.375278\n",
       "9        9    241      0.036           0.0864              212  5.356586\n",
       "10      10    207      0.040           0.0960              178  5.181784\n",
       "11      11    191      0.044           0.1056              162  5.087596\n",
       "12      12    171      0.048           0.1152              142  4.955827\n",
       "13      13    162      0.052           0.1248              133  4.890349\n",
       "14      14    143      0.056           0.1344              114  4.736198\n",
       "15      15    118      0.060           0.1440               89  4.488636"
      ]
     },
     "execution_count": 142,
     "metadata": {},
     "output_type": "execute_result"
    }
   ],
   "source": [
    "data"
   ]
  },
  {
   "cell_type": "markdown",
   "metadata": {},
   "source": [
    "## Count Rate vs Thickness"
   ]
  },
  {
   "cell_type": "code",
   "execution_count": 149,
   "metadata": {},
   "outputs": [
    {
     "data": {
      "image/png": "[encoded data removed]",
      "text/plain": [
       "<Figure size 432x288 with 1 Axes>"
      ]
     },
     "metadata": {
      "needs_background": "light"
     },
     "output_type": "display_data"
    }
   ],
   "source": [
    "#plotting the points\n",
    "x = data[\"thickness\"]\n",
    "y = data[\"corrected_count\"]\n",
    "plt.title(\"Figure 6.1\")\n",
    "plt.xlabel('Thickness', color='#1C2833')\n",
    "plt.ylabel('Count', color='#1C2833')\n",
    "plt.ylim(0,486)\n",
    "plt.xlim(0,0.065)\n",
    "\n",
    "plt.scatter(x,y) \n",
    "#plt.plot(x,y)\n",
    "plt.show()"
   ]
  },
  {
   "cell_type": "markdown",
   "metadata": {},
   "source": [
    "## Log(Count Rate) vs Thickness"
   ]
  },
  {
   "cell_type": "code",
   "execution_count": 147,
   "metadata": {},
   "outputs": [
    {
     "data": {
      "image/png": "[encoded data removed]",
      "text/plain": [
       "<Figure size 432x288 with 1 Axes>"
      ]
     },
     "metadata": {
      "needs_background": "light"
     },
     "output_type": "display_data"
    }
   ],
   "source": [
    "#plotting the points\n",
    "x = data[\"thickness\"]\n",
    "y = data[\"lnC\"]\n",
    "plt.title(\"Figure 6.1\")\n",
    "plt.xlabel('Thickness', color='#1C2833')\n",
    "plt.ylabel('lnC', color='#1C2833')\n",
    "plt.ylim(4,6.5)\n",
    "plt.xlim(0,0.065)\n",
    "\n",
    "plt.scatter(x,y) \n",
    "#plt.plot(x,y)\n",
    "plt.show()"
   ]
  },
  {
   "cell_type": "code",
   "execution_count": null,
   "metadata": {},
   "outputs": [],
   "source": []
  },
  {
   "cell_type": "code",
   "execution_count": null,
   "metadata": {},
   "outputs": [],
   "source": []
  },
  {
   "cell_type": "code",
   "execution_count": null,
   "metadata": {},
   "outputs": [],
   "source": []
  }
 ],
 "metadata": {
  "kernelspec": {
   "display_name": "Python 3",
   "language": "python",
   "name": "python3"
  },
  "language_info": {
   "codemirror_mode": {
    "name": "ipython",
    "version": 3
   },
   "file_extension": ".py",
   "mimetype": "text/x-python",
   "name": "python",
   "nbconvert_exporter": "python",
   "pygments_lexer": "ipython3",
   "version": "3.7.1"
  }
 },
 "nbformat": 4,
 "nbformat_minor": 2
}
